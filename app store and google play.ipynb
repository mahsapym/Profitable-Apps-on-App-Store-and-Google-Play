{
 "cells": [
  {
   "cell_type": "markdown",
   "metadata": {},
   "source": [
    "# Profitable App Profiles for the App Store and Google Play Markets\n",
    "\n",
    "Project description\n",
    "--\n",
    "\n",
    "In this project, we would like to analyze the data about iOS and Android apps in order to help the developers understand what type of apps are more attractive on the Google Play and App Store. Our goal is to develope free and English-speaking apps.\n",
    "\n",
    "As of September 2018, there were approximately 2 million iOS apps available on the App Store, and 2.1 million Android apps on Google Play.\n",
    "\n",
    "Collecting data for over 4 million apps requires a significant amount of time and money, so we'll try to analyze a sample of the data instead. To avoid spending resources on collecting new data ourselves, we should first try to see if we can find any relevant existing data at no cost. Luckily, these are two data sets that seem suitable for our goals:\n",
    "\n",
    "A data set containing data about approximately 10,000 Android apps from Google Play; the data was collected in August 2018. You can download the data set directly from this link.\n",
    "A data set containing data about approximately 7,000 iOS apps from the App Store; the data was collected in July 2017. You can download the data set directly from this link.\n",
    "\n",
    "We'll start by opening and exploring these two data sets.\n",
    "\n"
   ]
  },
  {
   "cell_type": "markdown",
   "metadata": {},
   "source": [
    "Opening the files and exploring the data\n",
    "---\n",
    "\n",
    "First we will write a function to open the files:\n"
   ]
  },
  {
   "cell_type": "code",
   "execution_count": 1,
   "metadata": {},
   "outputs": [],
   "source": [
    "from csv import reader\n",
    "# Function for opening the csv files\n",
    "def open_file(name):\n",
    "    openfile = open(name)\n",
    "    reading = reader(openfile)\n",
    "    data_set= list(reading)\n",
    "    return data_set\n",
    "ios_data = open_file(\"AppleStore.csv\")\n",
    "android_data = open_file(\"googleplaystore.csv\")      \n"
   ]
  },
  {
   "cell_type": "markdown",
   "metadata": {},
   "source": [
    "We can also write a function to explore the data sets:\n",
    "For example, in this section we will print the second, third and fourth rows of iOS data set."
   ]
  },
  {
   "cell_type": "code",
   "execution_count": 2,
   "metadata": {
    "scrolled": true
   },
   "outputs": [
    {
     "name": "stdout",
     "output_type": "stream",
     "text": [
      "['389801252', 'Instagram', '113954816', 'USD', '0.0', '2161558', '1289', '4.5', '4.0', '10.23', '12+', 'Photo & Video', '37', '0', '29', '1']\n",
      "\n",
      "\n",
      "['529479190', 'Clash of Clans', '116476928', 'USD', '0.0', '2130805', '579', '4.5', '4.5', '9.24.12', '9+', 'Games', '38', '5', '18', '1']\n",
      "\n",
      "\n",
      "['420009108', 'Temple Run', '65921024', 'USD', '0.0', '1724546', '3842', '4.5', '4.0', '1.6.2', '9+', 'Games', '40', '5', '1', '1']\n",
      "\n",
      "\n",
      "['Coloring book moana', 'ART_AND_DESIGN', '3.9', '967', '14M', '500,000+', 'Free', '0', 'Everyone', 'Art & Design;Pretend Play', 'January 15, 2018', '2.0.0', '4.0.3 and up']\n",
      "\n",
      "\n",
      "['U Launcher Lite – FREE Live Cool Themes, Hide Apps', 'ART_AND_DESIGN', '4.7', '87510', '8.7M', '5,000,000+', 'Free', '0', 'Everyone', 'Art & Design', 'August 1, 2018', '1.2.4', '4.0.3 and up']\n",
      "\n",
      "\n",
      "['Sketch - Draw & Paint', 'ART_AND_DESIGN', '4.5', '215644', '25M', '50,000,000+', 'Free', '0', 'Teen', 'Art & Design', 'June 8, 2018', 'Varies with device', '4.2 and up']\n",
      "\n",
      "\n"
     ]
    }
   ],
   "source": [
    "# Function for exploring the data sets\n",
    "def explore_data(dataset, start, end, rows_and_columns=False):\n",
    "    dataset_slice = dataset[start:end]    \n",
    "    for row in dataset_slice:\n",
    "        print(row)\n",
    "        print('\\n') # adds a new (empty) line after each row\n",
    "\n",
    "    if rows_and_columns:\n",
    "        print('Number of rows:', len(dataset))\n",
    "        print('Number of columns:', len(dataset[0]))\n",
    "        \n",
    "explore_data(ios_data,2,5)\n",
    "explore_data(android_data,2,5)\n",
    "        "
   ]
  },
  {
   "cell_type": "markdown",
   "metadata": {},
   "source": [
    "We would like to find the number of rows and columns of these data sets and also the header row."
   ]
  },
  {
   "cell_type": "code",
   "execution_count": 3,
   "metadata": {
    "scrolled": false
   },
   "outputs": [
    {
     "name": "stdout",
     "output_type": "stream",
     "text": [
      "Number of rows in the iOS data set are 7197\n",
      "Number of rows in the android data set are 10841\n",
      "\n",
      "\n",
      "Header iOS data =  ['id', 'track_name', 'size_bytes', 'currency', 'price', 'rating_count_tot', 'rating_count_ver', 'user_rating', 'user_rating_ver', 'ver', 'cont_rating', 'prime_genre', 'sup_devices.num', 'ipadSc_urls.num', 'lang.num', 'vpp_lic'] \n",
      " 16  columns\n",
      "\n",
      "\n",
      "Header android data =  ['App', 'Category', 'Rating', 'Reviews', 'Size', 'Installs', 'Type', 'Price', 'Content Rating', 'Genres', 'Last Updated', 'Current Ver', 'Android Ver'] \n",
      " 13  columns\n"
     ]
    }
   ],
   "source": [
    "num_row_ios = len(ios_data)-1\n",
    "print(\"Number of rows in the iOS data set are\" ,num_row_ios)\n",
    "num_row_android = len(android_data)-1\n",
    "print(\"Number of rows in the android data set are\", num_row_android)\n",
    "print(\"\\n\")\n",
    "Header_ios = print(\"Header iOS data = \",ios_data[0],\"\\n\",len(ios_data[0]),\" columns\")\n",
    "print(\"\\n\")\n",
    "\n",
    "Header_android = print(\"Header android data = \",android_data[0],\"\\n\",len(android_data[0]),\" columns\")"
   ]
  },
  {
   "cell_type": "markdown",
   "metadata": {},
   "source": [
    "Data cleaning\n",
    "----\n",
    "Before beginning our analysis, we need to make sure the data we analyze is accurate, otherwise the results of our analysis will be wrong. This means that we need to:\n",
    "\n",
    "   - Detect inaccurate data, and correct or remove it.\n",
    "   - Detect duplicate data, and remove the duplicates.\n",
    "\n",
    "Let's start cleaning the data."
   ]
  },
  {
   "cell_type": "markdown",
   "metadata": {},
   "source": [
    "Recall that at our company, we only build apps that are free to download and install, and that are directed toward an English-speaking audience. This means that we'll need to:\n",
    "\n",
    "   - Remove non-English apps like 爱奇艺PPS -《欢乐颂2》电视剧热播.\n",
    "   - Remove apps that aren't free.\n"
   ]
  },
  {
   "cell_type": "code",
   "execution_count": 4,
   "metadata": {
    "scrolled": true
   },
   "outputs": [
    {
     "name": "stdout",
     "output_type": "stream",
     "text": [
      "['Life Made WI-Fi Touchscreen Photo Frame', '1.9', '19', '3.0M', '1,000+', 'Free', '0', 'Everyone', '', 'February 11, 2018', '1.0.19', '4.0 and up']\n"
     ]
    }
   ],
   "source": [
    "# Wrong entry of data for row 10473 (counting including header)\n",
    "print(android_data[10473])"
   ]
  },
  {
   "cell_type": "markdown",
   "metadata": {},
   "source": [
    "The row 10472 corresponds to the app Life Made WI-Fi Touchscreen Photo Frame, and we can see that the rating is 19. This is clearly off because the maximum rating for a Google Play app is 5 (as mentioned in the discussions section, this problem is caused by a missing value in the 'Category' column). As a consequence, we'll delete this row.\n",
    "We found out about it from the discussion section of the data set in Kaggle"
   ]
  },
  {
   "cell_type": "code",
   "execution_count": 5,
   "metadata": {},
   "outputs": [],
   "source": [
    "del android_data[10473] # Do not run this code more than once!"
   ]
  },
  {
   "cell_type": "markdown",
   "metadata": {},
   "source": [
    "Removing the duplicate entries\n",
    "---"
   ]
  },
  {
   "cell_type": "markdown",
   "metadata": {},
   "source": [
    "Now we would like to check our data for duplicate entries.\n",
    "As an example, let's check if Slack has duplicate enteries or not."
   ]
  },
  {
   "cell_type": "code",
   "execution_count": 6,
   "metadata": {
    "scrolled": true
   },
   "outputs": [
    {
     "name": "stdout",
     "output_type": "stream",
     "text": [
      "['Slack', 'BUSINESS', '4.4', '51507', 'Varies with device', '5,000,000+', 'Free', '0', 'Everyone', 'Business', 'August 2, 2018', 'Varies with device', 'Varies with device']\n",
      "['Slack', 'BUSINESS', '4.4', '51507', 'Varies with device', '5,000,000+', 'Free', '0', 'Everyone', 'Business', 'August 2, 2018', 'Varies with device', 'Varies with device']\n",
      "['Slack', 'BUSINESS', '4.4', '51510', 'Varies with device', '5,000,000+', 'Free', '0', 'Everyone', 'Business', 'August 2, 2018', 'Varies with device', 'Varies with device']\n",
      "\n",
      "\n",
      "Number of duplicate entries for Slack:  3\n"
     ]
    }
   ],
   "source": [
    "app_count = 0\n",
    "for app in android_data[1:]:\n",
    "    app_name = app[0]\n",
    "    if app_name == \"Slack\":\n",
    "        app_count += 1\n",
    "        print(app)\n",
    "        \n",
    "print(\"\\n\")        \n",
    "print(\"Number of duplicate entries for Slack: \",app_count)    "
   ]
  },
  {
   "cell_type": "markdown",
   "metadata": {},
   "source": [
    "We can see that there are 3 duplicate entries for Slack.\n",
    "Now let's check how many duplicate app names we have in our data set:"
   ]
  },
  {
   "cell_type": "code",
   "execution_count": 7,
   "metadata": {
    "scrolled": true
   },
   "outputs": [
    {
     "name": "stdout",
     "output_type": "stream",
     "text": [
      "Number of duplicate apps is 1181 .\n"
     ]
    }
   ],
   "source": [
    "duplicate_apps = []\n",
    "unique_apps = []\n",
    "for app in android_data:\n",
    "    app_name = app[0]\n",
    "    if app_name in unique_apps:\n",
    "        duplicate_apps.append(app_name)\n",
    "    else:\n",
    "        unique_apps.append(app_name)\n",
    "        \n",
    "print(\"Number of duplicate apps is\",len(duplicate_apps),\".\")\n"
   ]
  },
  {
   "cell_type": "markdown",
   "metadata": {},
   "source": [
    "We don't want to count certain apps more than once when we analyze data, so we need to remove the duplicate entries and keep only one entry per app. Also, we don't want to delete duplicate entries randomly. If we look carefully ate our data, on the fourth position of each row, which corresponds to the number of reviews is different in these datas. So we can use this information and keep the data with more reviews which means the data is more recent."
   ]
  },
  {
   "cell_type": "code",
   "execution_count": 8,
   "metadata": {},
   "outputs": [
    {
     "name": "stdout",
     "output_type": "stream",
     "text": [
      "Expected lenght: 9659\n"
     ]
    }
   ],
   "source": [
    "print(\"Expected lenght:\", len(android_data[1:])-len(duplicate_apps))"
   ]
  },
  {
   "cell_type": "markdown",
   "metadata": {},
   "source": [
    "For doing this, we will creat a dictionary to keep the latest data of each app.\n",
    "After that, we will creat a new list of lists that contains the cleaned android data with no duplicate entries."
   ]
  },
  {
   "cell_type": "code",
   "execution_count": 9,
   "metadata": {
    "scrolled": true
   },
   "outputs": [
    {
     "name": "stdout",
     "output_type": "stream",
     "text": [
      "Lenght of the dictionary: 9659\n",
      "Lenght of the cleaned android data: 9659\n"
     ]
    }
   ],
   "source": [
    "# Creating a dictionary with max reviews.\n",
    "max_reviews = {}\n",
    "for row in android_data[1:]:\n",
    "    app_name = row[0]\n",
    "    num_reviews = int(row[3])\n",
    "    if (app_name in max_reviews) and (max_reviews[app_name]<num_reviews):\n",
    "        max_reviews[app_name]= num_reviews\n",
    "    elif app_name not in max_reviews:\n",
    "        max_reviews[app_name]= num_reviews\n",
    "print(\"Lenght of the dictionary:\",len(max_reviews))\n",
    "\n",
    "# Using the above dictionary to remove our duplicate data:\n",
    "\n",
    "android_clean_data= []\n",
    "already_added = []\n",
    "for row in android_data[1:]:\n",
    "    num_review = int(row[3])\n",
    "    app_name = row[0]\n",
    "    compare = max_reviews[app_name]\n",
    "    if (num_review == compare)and (app_name not in already_added): # Adding the second condition is essential.\n",
    "        already_added.append(app_name)\n",
    "        android_clean_data.append(row)\n",
    "# Check whether the lenght of dictionary is the same as the lenght of our cleaned data.       \n",
    "print(\"Lenght of the cleaned android data:\",len(android_clean_data)) "
   ]
  },
  {
   "cell_type": "markdown",
   "metadata": {},
   "source": [
    "Removing non-English apps\n",
    "---"
   ]
  },
  {
   "cell_type": "markdown",
   "metadata": {},
   "source": [
    "Remember we use English for the apps we develop at our company, and we'd like to analyze only the apps that are directed toward an English-speaking audience. However, if we explore the data long enough, we'll find that both data sets have apps with names that suggest they are not directed toward an English-speaking audience. So in this section we will remove the non-English apps."
   ]
  },
  {
   "cell_type": "markdown",
   "metadata": {},
   "source": [
    "Behind the scenes, each character we use in a string has a corresponding number associated with it. For instance, the corresponding number for character 'a' is 97, character 'A' is 65, and character '爱' is 29,233. We can get the corresponding number of each character using the ord() built-in function."
   ]
  },
  {
   "cell_type": "code",
   "execution_count": 10,
   "metadata": {},
   "outputs": [
    {
     "name": "stdout",
     "output_type": "stream",
     "text": [
      "65\n",
      "43\n"
     ]
    }
   ],
   "source": [
    "print(ord('A'))\n",
    "print(ord(\"+\"))"
   ]
  },
  {
   "cell_type": "markdown",
   "metadata": {},
   "source": [
    "The numbers corresponding to the characters we commonly use in an English text are all in the range 0 to 127, according to the ASCII (American Standard Code for Information Interchange) system. Based on this number range, we can build a function that detects whether a character belongs to the set of common English characters or not. If the number is equal to or less than 127, then the character belongs to the set of common English characters. \n",
    "\n",
    "In Python, strings are indexable and iterable, which means we can use indexing to select an individual character, and we can also iterate on the string using a for loop."
   ]
  },
  {
   "cell_type": "code",
   "execution_count": 11,
   "metadata": {
    "scrolled": false
   },
   "outputs": [
    {
     "name": "stdout",
     "output_type": "stream",
     "text": [
      "True\n",
      "False\n",
      "False\n",
      "False\n"
     ]
    }
   ],
   "source": [
    "# Creating a function to check whether a string is written with English Characters or not.\n",
    "def check_english(string):\n",
    "    \"\"\" function that takes in a string and returns False if there's any character in the string that doesn't belong to the set of common English characters,\n",
    "    otherwise it returns True \"\"\"\n",
    "    for char in string:\n",
    "        order_char = ord(char)\n",
    "        if order_char> 127:\n",
    "            return False\n",
    "       \n",
    "    return True\n",
    "        \n",
    "        \n",
    "# Let's check our function        \n",
    "print(check_english(\"Instagram\"))\n",
    "print(check_english('Instachat 😜')) \n",
    "print(check_english('سلام')) \n",
    "print(check_english('Docs To Go™ Free Office Suite'))"
   ]
  },
  {
   "cell_type": "markdown",
   "metadata": {},
   "source": [
    "We can see that the English app names like 'Docs To Go™ Free Office Suite' and 'Instachat 😜' were not identified as an English app. This is because emojis and characters like ™ fall outside the ASCII range and have corresponding numbers over 127.\n",
    "\n",
    "If we're going to use the function we've created, we'll lose useful data since many English apps will be incorrectly labeled as non-English. \n",
    "\n",
    "To minimize the impact of data loss, we'll only remove an app if its name has more than three characters with corresponding numbers falling outside the ASCII range. \n",
    "\n",
    "Our filter function is still not perfect, but it should be fairly effective. \n",
    "\n",
    "So let's edit our function:"
   ]
  },
  {
   "cell_type": "code",
   "execution_count": 12,
   "metadata": {
    "scrolled": true
   },
   "outputs": [
    {
     "name": "stdout",
     "output_type": "stream",
     "text": [
      "True\n",
      "True\n",
      "False\n",
      "True\n"
     ]
    }
   ],
   "source": [
    "# Editing our function to check whether a string is written with English Characters or not.\n",
    "def check_english(string):\n",
    "    \"\"\" function that takes in a string and returns False if there's more than three characters in the string that doesn't belong to the set of common English characters,\n",
    "    otherwise it returns True \"\"\"\n",
    "    char_more_127 = []\n",
    "    for char in string:\n",
    "        order_char = ord(char)\n",
    "        if order_char > 127:\n",
    "            char_more_127.append(order_char) \n",
    "    if len(char_more_127)> 3:\n",
    "        return False       \n",
    "       \n",
    "    return True\n",
    "\n",
    "# Checking the edited version of our function.\n",
    "print(check_english(\"Instagram\"))\n",
    "print(check_english('Instachat 😜')) \n",
    "print(check_english('سلام')) \n",
    "print(check_english('Docs To Go™ Free Office Suite'))\n",
    "        "
   ]
  },
  {
   "cell_type": "markdown",
   "metadata": {},
   "source": [
    "Now that we have checked our edited version of English-checking fuction, let's remove the non-English apps from our data sets."
   ]
  },
  {
   "cell_type": "code",
   "execution_count": 13,
   "metadata": {
    "scrolled": false
   },
   "outputs": [
    {
     "name": "stdout",
     "output_type": "stream",
     "text": [
      "Number of English apps in the cleaned Android data set: 9614\n",
      "[['Sketch - Draw & Paint', 'ART_AND_DESIGN', '4.5', '215644', '25M', '50,000,000+', 'Free', '0', 'Teen', 'Art & Design', 'June 8, 2018', 'Varies with device', '4.2 and up'], ['Pixel Draw - Number Art Coloring Book', 'ART_AND_DESIGN', '4.3', '967', '2.8M', '100,000+', 'Free', '0', 'Everyone', 'Art & Design;Creativity', 'June 20, 2018', '1.1', '4.4 and up'], ['Paper flowers instructions', 'ART_AND_DESIGN', '4.4', '167', '5.6M', '50,000+', 'Free', '0', 'Everyone', 'Art & Design', 'March 26, 2017', '1.0', '2.3 and up']]\n"
     ]
    }
   ],
   "source": [
    "# Removing Non-English apps from Android data set\n",
    "# Do not forget to use cleaned Android data set!\n",
    "android_english_clean_data = []\n",
    "for row in android_clean_data: # This data set is without header\n",
    "    app_name = row[0]\n",
    "    if check_english(app_name):\n",
    "        android_english_clean_data.append(row)\n",
    "    else:\n",
    "        continue\n",
    "        \n",
    "# Number of rows without header        \n",
    "print(\"Number of English apps in the cleaned Android data set:\",len(android_english_clean_data))\n",
    "print(android_english_clean_data[2:5]) \n",
    "\n"
   ]
  },
  {
   "cell_type": "code",
   "execution_count": 14,
   "metadata": {
    "scrolled": true
   },
   "outputs": [
    {
     "name": "stdout",
     "output_type": "stream",
     "text": [
      "Number of English apps in the iOS data set: 6183\n",
      "[['529479190', 'Clash of Clans', '116476928', 'USD', '0.0', '2130805', '579', '4.5', '4.5', '9.24.12', '9+', 'Games', '38', '5', '18', '1'], ['420009108', 'Temple Run', '65921024', 'USD', '0.0', '1724546', '3842', '4.5', '4.0', '1.6.2', '9+', 'Games', '40', '5', '1', '1'], ['284035177', 'Pandora - Music & Radio', '130242560', 'USD', '0.0', '1126879', '3594', '4.0', '4.5', '8.4.1', '12+', 'Music', '37', '4', '1', '1']]\n"
     ]
    }
   ],
   "source": [
    "# Removing Non-English apps from iOS data set\n",
    "\n",
    "ios_english_data = []\n",
    "for row in ios_data[1:]:\n",
    "    app_name = row[1]\n",
    "    if check_english(app_name):\n",
    "        ios_english_data.append(row)\n",
    "    else:\n",
    "        continue\n",
    "        \n",
    "# Number of rows without header         \n",
    "print(\"Number of English apps in the iOS data set:\",len(ios_english_data))\n",
    "print(ios_english_data[2:5]) \n"
   ]
  },
  {
   "cell_type": "markdown",
   "metadata": {},
   "source": [
    "So far in the data cleaning process, we:\n",
    "\n",
    "   - Removed inaccurate data\n",
    "   - Removed duplicate app entries\n",
    "   - Removed non-English apps\n",
    "\n",
    "As we mentioned in the introduction, we only build apps that are free to download and install, so isolating the free apps will be our last step in the data cleaning process."
   ]
  },
  {
   "cell_type": "markdown",
   "metadata": {},
   "source": [
    "Isolationg the free apps in the two data sets\n",
    "--\n",
    "\n",
    "From the headers we know that the index for price in the Android data set is 7 and in the iOS data set is 4. So let's isolate the free apps in the two data sets."
   ]
  },
  {
   "cell_type": "code",
   "execution_count": 15,
   "metadata": {
    "scrolled": false
   },
   "outputs": [
    {
     "name": "stdout",
     "output_type": "stream",
     "text": [
      "Num Free Android apps: 8864\n",
      "Num Free iOS apps: 3222\n"
     ]
    }
   ],
   "source": [
    "# Android data set - isolating free apps\n",
    "free_android_data = []\n",
    "for row in android_english_clean_data: #Don't forget to use cleaned data so far.\n",
    "    app_price = row[7]\n",
    "    app_price = app_price.replace(\"$\",\"\") #Remove the $ sign so that the string can be changed to float\n",
    "    app_price = float(app_price)\n",
    "    if app_price == 0.0:\n",
    "        free_android_data.append(row)\n",
    "    else:\n",
    "        continue\n",
    "        \n",
    "print(\"Num Free Android apps:\",len(free_android_data))  \n",
    "\n",
    "# iOS data set - isolating free apps\n",
    "free_ios_data = []\n",
    "for row in ios_english_data: #don't forget to use cleaned data so far.\n",
    "    app_price = row[4]\n",
    "    app_price = app_price.replace(\"$\",\"\") #Remove the $ sign so that the string can be changed to float\n",
    "    app_price = float(app_price)\n",
    "    if app_price == 0.0:\n",
    "        free_ios_data.append(row)\n",
    "    else:\n",
    "        continue\n",
    "        \n",
    "print(\"Num Free iOS apps:\",len(free_ios_data))        "
   ]
  },
  {
   "cell_type": "markdown",
   "metadata": {},
   "source": [
    "So far, we spent a good amount of time on cleaning data, and:\n",
    "\n",
    "   - Removed inaccurate data\n",
    "   - Removed duplicate app entries\n",
    "   - Removed non-English apps\n",
    "   - Isolated the free apps\n",
    "\n",
    "As we mentioned in the introduction, our aim is to determine the kinds of apps that are likely to attract more users because our revenue is highly influenced by the number of people using our apps."
   ]
  },
  {
   "cell_type": "markdown",
   "metadata": {},
   "source": [
    "Most common apps by Genre : Part I\n",
    "----\n",
    "To minimize risks and overhead, our validation strategy for an app idea is comprised of three steps:\n",
    "\n",
    "   1. Build a minimal Android version of the app, and add it to Google Play.\n",
    "   2. If the app has a good response from users, we develop it further.\n",
    "   3. If the app is profitable after six months, we build an iOS version of the app and add it to the App Store.\n",
    "\n",
    "\n",
    "Because our end goal is to add the app on both Google Play and the App Store, we need to find app profiles that are successful on both markets.\n",
    "\n",
    "Let's generate frequency tables to find out what are the most common genres in each market."
   ]
  },
  {
   "cell_type": "code",
   "execution_count": 16,
   "metadata": {
    "scrolled": false
   },
   "outputs": [
    {
     "name": "stdout",
     "output_type": "stream",
     "text": [
      "{'ART_AND_DESIGN': 57, 'AUTO_AND_VEHICLES': 82, 'BEAUTY': 53, 'BOOKS_AND_REFERENCE': 190, 'BUSINESS': 407, 'COMICS': 55, 'COMMUNICATION': 287, 'DATING': 165, 'EDUCATION': 103, 'ENTERTAINMENT': 85, 'EVENTS': 63, 'FINANCE': 328, 'FOOD_AND_DRINK': 110, 'HEALTH_AND_FITNESS': 273, 'HOUSE_AND_HOME': 73, 'LIBRARIES_AND_DEMO': 83, 'LIFESTYLE': 346, 'GAME': 862, 'FAMILY': 1676, 'MEDICAL': 313, 'SOCIAL': 236, 'SHOPPING': 199, 'PHOTOGRAPHY': 261, 'SPORTS': 301, 'TRAVEL_AND_LOCAL': 207, 'TOOLS': 750, 'PERSONALIZATION': 294, 'PRODUCTIVITY': 345, 'PARENTING': 58, 'WEATHER': 71, 'VIDEO_PLAYERS': 159, 'NEWS_AND_MAGAZINES': 248, 'MAPS_AND_NAVIGATION': 124}\n",
      "\n",
      "\n",
      "{'Social Networking': 106, 'Photo & Video': 160, 'Games': 1874, 'Music': 66, 'Reference': 18, 'Health & Fitness': 65, 'Weather': 28, 'Utilities': 81, 'Travel': 40, 'Shopping': 84, 'News': 43, 'Navigation': 6, 'Lifestyle': 51, 'Entertainment': 254, 'Food & Drink': 26, 'Sports': 69, 'Book': 14, 'Finance': 36, 'Education': 118, 'Productivity': 56, 'Business': 17, 'Catalogs': 4, 'Medical': 6}\n"
     ]
    }
   ],
   "source": [
    "# Generating frequency table for the genre of Android apps:\n",
    "# index genre = 1\n",
    "freq_android= {}\n",
    "for row in free_android_data:\n",
    "    app_genre = row[1]\n",
    "    if app_genre in freq_android:\n",
    "        freq_android[app_genre] += 1\n",
    "    else:\n",
    "        freq_android[app_genre] = 1\n",
    "        \n",
    "print(freq_android)  \n",
    "\n",
    "# Generating frequency table for the genre of iOS apps:\n",
    "# index genre = -5\n",
    "freq_ios= {}\n",
    "for row in free_ios_data:\n",
    "    app_genre = row[-5]\n",
    "    if app_genre in freq_ios:\n",
    "        freq_ios[app_genre] += 1\n",
    "    else:\n",
    "        freq_ios[app_genre] = 1\n",
    "print(\"\\n\")        \n",
    "print(freq_ios)    "
   ]
  },
  {
   "cell_type": "code",
   "execution_count": 17,
   "metadata": {
    "scrolled": true
   },
   "outputs": [
    {
     "name": "stdout",
     "output_type": "stream",
     "text": [
      "Most frequent genre on Google Play:  FAMILY\n",
      "Most frequent genre on AppStore:  Games\n"
     ]
    }
   ],
   "source": [
    "import operator\n",
    "\n",
    "x = max(freq_android.items(), key=operator.itemgetter(1))[0]\n",
    "print(\"Most frequent genre on Google Play: \",x)\n",
    "\n",
    "y = max(freq_ios.items(), key=operator.itemgetter(1))[0]\n",
    "print(\"Most frequent genre on AppStore: \",y)"
   ]
  },
  {
   "cell_type": "markdown",
   "metadata": {},
   "source": [
    "We'll build two functions we can use to analyze the frequency tables:\n",
    "\n",
    "   - One function to generate frequency tables that show percentages\n",
    "   - Another function we can use to display the percentages in a descending order\n",
    "   \n",
    "dictionaries don't have order, and it will be very difficult to analyze the frequency tables. We'll need to build a second function which can help us display the entries in the frequency table in a descending order.\n"
   ]
  },
  {
   "cell_type": "code",
   "execution_count": 18,
   "metadata": {},
   "outputs": [],
   "source": [
    "#\n",
    "def freq_table(dataset,index):\n",
    "    freq_table_dict = {}\n",
    "    total = 0\n",
    "    for row in dataset:\n",
    "        total += 1\n",
    "        app_index = row[index]\n",
    "        if app_index in freq_table_dict:\n",
    "            freq_table_dict[app_index] += 1\n",
    "        else:\n",
    "            freq_table_dict[app_index] = 1\n",
    "        \n",
    "    freq_table_percentage = {}   \n",
    "    for key in freq_table_dict:\n",
    "        percentage = (freq_table_dict[key] / total) * 100 \n",
    "        freq_table_percentage[key] = percentage\n",
    "        \n",
    "    return freq_table_percentage\n",
    "    "
   ]
  },
  {
   "cell_type": "code",
   "execution_count": 19,
   "metadata": {},
   "outputs": [],
   "source": [
    "#The display_table() function you see below:\n",
    "#Takes in two parameters: dataset and index. dataset is expected to be a list of lists, and index is expected to be an integer.\n",
    "#Generates a frequency table using the freq_table() function (which you're going to write as an exercise).\n",
    "#Transforms the frequency table into a list of tuples, then sorts the list in a descending order.\n",
    "#Prints the entries of the frequency table in descending order.\n",
    "\n",
    "def display_table(dataset, index):\n",
    "    table = freq_table(dataset, index)\n",
    "    table_display = []\n",
    "    for key in table:\n",
    "        key_val_as_tuple = (table[key], key)\n",
    "        table_display.append(key_val_as_tuple)\n",
    "\n",
    "    table_sorted = sorted(table_display, reverse = True)\n",
    "    for entry in table_sorted:\n",
    "        print(entry[1], ':', entry[0])"
   ]
  },
  {
   "cell_type": "code",
   "execution_count": 21,
   "metadata": {
    "scrolled": true
   },
   "outputs": [
    {
     "name": "stdout",
     "output_type": "stream",
     "text": [
      "Games : 58.16263190564867\n",
      "Entertainment : 7.883302296710118\n",
      "Photo & Video : 4.9658597144630665\n",
      "Education : 3.662321539416512\n",
      "Social Networking : 3.2898820608317814\n",
      "Shopping : 2.60707635009311\n",
      "Utilities : 2.5139664804469275\n",
      "Sports : 2.1415270018621975\n",
      "Music : 2.0484171322160147\n",
      "Health & Fitness : 2.0173805090006205\n",
      "Productivity : 1.7380509000620732\n",
      "Lifestyle : 1.5828677839851024\n",
      "News : 1.3345747982619491\n",
      "Travel : 1.2414649286157666\n",
      "Finance : 1.1173184357541899\n",
      "Weather : 0.8690254500310366\n",
      "Food & Drink : 0.8069522036002483\n",
      "Reference : 0.5586592178770949\n",
      "Business : 0.5276225946617008\n",
      "Book : 0.4345127250155183\n",
      "Navigation : 0.186219739292365\n",
      "Medical : 0.186219739292365\n",
      "Catalogs : 0.12414649286157665\n",
      "\n",
      "\n"
     ]
    }
   ],
   "source": [
    "display_table(free_ios_data, -5)\n",
    "print(\"\\n\")\n"
   ]
  },
  {
   "cell_type": "markdown",
   "metadata": {},
   "source": [
    "From the frequency table above, we can see that more than half of the free English apps in App Store are in Game category. After that Entertainment and Photo & Video categories are 2nd and 3rd, respectively. Now we will find out the trend for Google Play market:"
   ]
  },
  {
   "cell_type": "code",
   "execution_count": 23,
   "metadata": {
    "scrolled": true
   },
   "outputs": [
    {
     "name": "stdout",
     "output_type": "stream",
     "text": [
      "FAMILY : 19.325982941543582\n",
      "GAME : 9.819013938007073\n",
      "TOOLS : 8.61244019138756\n",
      "BUSINESS : 4.358227584772207\n",
      "MEDICAL : 4.108591637195756\n",
      "PERSONALIZATION : 3.900561680882047\n",
      "PRODUCTIVITY : 3.879758685250676\n",
      "LIFESTYLE : 3.786145204909507\n",
      "FINANCE : 3.588516746411483\n",
      "SPORTS : 3.3804867900977738\n",
      "COMMUNICATION : 3.2660703141252343\n",
      "HEALTH_AND_FITNESS : 2.995631370917412\n",
      "PHOTOGRAPHY : 2.9124193883919283\n",
      "NEWS_AND_MAGAZINES : 2.600374453921365\n",
      "SOCIAL : 2.485957977948825\n",
      "TRAVEL_AND_LOCAL : 2.2779280216351157\n",
      "BOOKS_AND_REFERENCE : 2.26752652381943\n",
      "SHOPPING : 2.090701060952777\n",
      "DATING : 1.768254628666528\n",
      "VIDEO_PLAYERS : 1.6954441439567296\n",
      "MAPS_AND_NAVIGATION : 1.3417932182234242\n",
      "FOOD_AND_DRINK : 1.1649677553567712\n",
      "EDUCATION : 1.1025587684626585\n",
      "ENTERTAINMENT : 0.9049303099646349\n",
      "LIBRARIES_AND_DEMO : 0.8737258165175785\n",
      "AUTO_AND_VEHICLES : 0.8737258165175785\n",
      "WEATHER : 0.8217183274391513\n",
      "HOUSE_AND_HOME : 0.7593093405450385\n",
      "EVENTS : 0.6656958602038693\n",
      "PARENTING : 0.6240898689411275\n",
      "ART_AND_DESIGN : 0.6240898689411275\n",
      "COMICS : 0.5720823798627002\n",
      "BEAUTY : 0.5512793842313293\n"
     ]
    }
   ],
   "source": [
    "\n",
    "display_table(android_english_clean_data, 1)"
   ]
  },
  {
   "cell_type": "markdown",
   "metadata": {},
   "source": [
    "In the Google Play market, Family category is the most frequent app category (around 20% of the free English apps) and after that Game and Tool are the most frequent ones.\n",
    "\n",
    "The frequency tables we analyzed on the previous screen showed us that the App Store is dominated by apps designed for fun, while Google Play shows a more balanced landscape of both practical and fun apps. Now, we'd like to get an idea about the kind of apps with the most users."
   ]
  },
  {
   "cell_type": "markdown",
   "metadata": {},
   "source": [
    "Most popular apps by genre on the App Store\n",
    "---\n",
    "\n",
    "One way to find out what genres are the most popular (have the most users) is to calculate the average number of installs for each app genre. For the Google Play data set, we can find this information in the Installs column, but this information is missing for the App Store data set. As a workaround, we'll take the total number of user ratings as a proxy, which we can find in the rating_count_tot app."
   ]
  },
  {
   "cell_type": "markdown",
   "metadata": {},
   "source": [
    "Let's start with calculating the average number of user ratings per app genre on the App Store. To do that, we'll need to:\n",
    "\n",
    "  - Isolate the apps of each genre.\n",
    "  - Sum up the user ratings for the apps of that genre.\n",
    "  - Divide the sum by the number of apps belonging to that genre (not by the total number of apps).\n"
   ]
  },
  {
   "cell_type": "code",
   "execution_count": 28,
   "metadata": {
    "scrolled": false
   },
   "outputs": [
    {
     "name": "stdout",
     "output_type": "stream",
     "text": [
      "Social Networking : 71548.34905660378\n",
      "Photo & Video : 28441.54375\n",
      "Games : 22788.6696905016\n",
      "Music : 57326.530303030304\n",
      "Reference : 74942.11111111111\n",
      "Health & Fitness : 23298.015384615384\n",
      "Weather : 52279.892857142855\n",
      "Utilities : 18684.456790123455\n",
      "Travel : 28243.8\n",
      "Shopping : 26919.690476190477\n",
      "News : 21248.023255813954\n",
      "Navigation : 86090.33333333333\n",
      "Lifestyle : 16485.764705882353\n",
      "Entertainment : 14029.830708661417\n",
      "Food & Drink : 33333.92307692308\n",
      "Sports : 23008.898550724636\n",
      "Book : 39758.5\n",
      "Finance : 31467.944444444445\n",
      "Education : 7003.983050847458\n",
      "Productivity : 21028.410714285714\n",
      "Business : 7491.117647058823\n",
      "Catalogs : 4004.0\n",
      "Medical : 612.0\n"
     ]
    }
   ],
   "source": [
    "fr_table_ios = freq_table(free_ios_data, -5)\n",
    "for genre in fr_table_ios:\n",
    "    total = 0\n",
    "    len_genre = 0\n",
    "    for row in free_ios_data:\n",
    "        genre_app = row[-5]\n",
    "        if genre_app == genre:\n",
    "            num_usr_rating = float(row[5])\n",
    "            total += num_usr_rating\n",
    "            len_genre += 1\n",
    "            \n",
    "    avg_num_user_rating = total / len_genre\n",
    "    print(genre,\":\",avg_num_user_rating)\n",
    "            \n",
    "    "
   ]
  },
  {
   "cell_type": "markdown",
   "metadata": {},
   "source": [
    "Most popular apps by genre on Google Play\n",
    "---"
   ]
  },
  {
   "cell_type": "code",
   "execution_count": 29,
   "metadata": {},
   "outputs": [
    {
     "name": "stdout",
     "output_type": "stream",
     "text": [
      "ART_AND_DESIGN : 1986335.0877192982\n",
      "AUTO_AND_VEHICLES : 647317.8170731707\n",
      "BEAUTY : 513151.88679245283\n",
      "BOOKS_AND_REFERENCE : 8767811.894736841\n",
      "BUSINESS : 1712290.1474201474\n",
      "COMICS : 817657.2727272727\n",
      "COMMUNICATION : 38456119.167247385\n",
      "DATING : 854028.8303030303\n",
      "EDUCATION : 1833495.145631068\n",
      "ENTERTAINMENT : 11640705.88235294\n",
      "EVENTS : 253542.22222222222\n",
      "FINANCE : 1387692.475609756\n",
      "FOOD_AND_DRINK : 1924897.7363636363\n",
      "HEALTH_AND_FITNESS : 4188821.9853479853\n",
      "HOUSE_AND_HOME : 1331540.5616438356\n",
      "LIBRARIES_AND_DEMO : 638503.734939759\n",
      "LIFESTYLE : 1437816.2687861272\n",
      "GAME : 15588015.603248259\n",
      "FAMILY : 3695641.8198090694\n",
      "MEDICAL : 120550.61980830671\n",
      "SOCIAL : 23253652.127118643\n",
      "SHOPPING : 7036877.311557789\n",
      "PHOTOGRAPHY : 17840110.40229885\n",
      "SPORTS : 3638640.1428571427\n",
      "TRAVEL_AND_LOCAL : 13984077.710144928\n",
      "TOOLS : 10801391.298666667\n",
      "PERSONALIZATION : 5201482.6122448975\n",
      "PRODUCTIVITY : 16787331.344927534\n",
      "PARENTING : 542603.6206896552\n",
      "WEATHER : 5074486.197183099\n",
      "VIDEO_PLAYERS : 24727872.452830188\n",
      "NEWS_AND_MAGAZINES : 9549178.467741935\n",
      "MAPS_AND_NAVIGATION : 4056941.7741935486\n"
     ]
    }
   ],
   "source": [
    "fr_table_android = freq_table(free_android_data, 1)\n",
    "for category in fr_table_android:\n",
    "    total = 0\n",
    "    len_category = 0\n",
    "    for row in free_android_data:\n",
    "        category_app = row[1]\n",
    "        if category == category_app:\n",
    "            n_installs = row[5]\n",
    "            n_installs = n_installs.replace(',', '')\n",
    "            n_installs = n_installs.replace('+', '')\n",
    "            total += float(n_installs)            \n",
    "            len_category += 1\n",
    "    avg_n_installs = total / len_category\n",
    "    print(category, ':', avg_n_installs)\n",
    "    "
   ]
  }
 ],
 "metadata": {
  "kernelspec": {
   "display_name": "Python 3",
   "language": "python",
   "name": "python3"
  },
  "language_info": {
   "codemirror_mode": {
    "name": "ipython",
    "version": 3
   },
   "file_extension": ".py",
   "mimetype": "text/x-python",
   "name": "python",
   "nbconvert_exporter": "python",
   "pygments_lexer": "ipython3",
   "version": "3.8.2"
  }
 },
 "nbformat": 4,
 "nbformat_minor": 2
}
